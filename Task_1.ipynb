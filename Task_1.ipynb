{
  "nbformat": 4,
  "nbformat_minor": 0,
  "metadata": {
    "colab": {
      "provenance": []
    },
    "kernelspec": {
      "name": "python3",
      "display_name": "Python 3"
    },
    "language_info": {
      "name": "python"
    }
  },
  "cells": [
    {
      "cell_type": "code",
      "source": [
        "from google.colab import files\n",
        "uploaded = files.upload()"
      ],
      "metadata": {
        "id": "NS-dFj9TLxsO",
        "colab": {
          "base_uri": "https://localhost:8080/",
          "height": 74
        },
        "outputId": "594313fb-14ea-4a4b-beda-929f0ac81575"
      },
      "execution_count": 1,
      "outputs": [
        {
          "output_type": "display_data",
          "data": {
            "text/plain": [
              "<IPython.core.display.HTML object>"
            ],
            "text/html": [
              "\n",
              "     <input type=\"file\" id=\"files-1d4a0b89-f607-4e37-a11a-a818afd9fb44\" name=\"files[]\" multiple disabled\n",
              "        style=\"border:none\" />\n",
              "     <output id=\"result-1d4a0b89-f607-4e37-a11a-a818afd9fb44\">\n",
              "      Upload widget is only available when the cell has been executed in the\n",
              "      current browser session. Please rerun this cell to enable.\n",
              "      </output>\n",
              "      <script>// Copyright 2017 Google LLC\n",
              "//\n",
              "// Licensed under the Apache License, Version 2.0 (the \"License\");\n",
              "// you may not use this file except in compliance with the License.\n",
              "// You may obtain a copy of the License at\n",
              "//\n",
              "//      http://www.apache.org/licenses/LICENSE-2.0\n",
              "//\n",
              "// Unless required by applicable law or agreed to in writing, software\n",
              "// distributed under the License is distributed on an \"AS IS\" BASIS,\n",
              "// WITHOUT WARRANTIES OR CONDITIONS OF ANY KIND, either express or implied.\n",
              "// See the License for the specific language governing permissions and\n",
              "// limitations under the License.\n",
              "\n",
              "/**\n",
              " * @fileoverview Helpers for google.colab Python module.\n",
              " */\n",
              "(function(scope) {\n",
              "function span(text, styleAttributes = {}) {\n",
              "  const element = document.createElement('span');\n",
              "  element.textContent = text;\n",
              "  for (const key of Object.keys(styleAttributes)) {\n",
              "    element.style[key] = styleAttributes[key];\n",
              "  }\n",
              "  return element;\n",
              "}\n",
              "\n",
              "// Max number of bytes which will be uploaded at a time.\n",
              "const MAX_PAYLOAD_SIZE = 100 * 1024;\n",
              "\n",
              "function _uploadFiles(inputId, outputId) {\n",
              "  const steps = uploadFilesStep(inputId, outputId);\n",
              "  const outputElement = document.getElementById(outputId);\n",
              "  // Cache steps on the outputElement to make it available for the next call\n",
              "  // to uploadFilesContinue from Python.\n",
              "  outputElement.steps = steps;\n",
              "\n",
              "  return _uploadFilesContinue(outputId);\n",
              "}\n",
              "\n",
              "// This is roughly an async generator (not supported in the browser yet),\n",
              "// where there are multiple asynchronous steps and the Python side is going\n",
              "// to poll for completion of each step.\n",
              "// This uses a Promise to block the python side on completion of each step,\n",
              "// then passes the result of the previous step as the input to the next step.\n",
              "function _uploadFilesContinue(outputId) {\n",
              "  const outputElement = document.getElementById(outputId);\n",
              "  const steps = outputElement.steps;\n",
              "\n",
              "  const next = steps.next(outputElement.lastPromiseValue);\n",
              "  return Promise.resolve(next.value.promise).then((value) => {\n",
              "    // Cache the last promise value to make it available to the next\n",
              "    // step of the generator.\n",
              "    outputElement.lastPromiseValue = value;\n",
              "    return next.value.response;\n",
              "  });\n",
              "}\n",
              "\n",
              "/**\n",
              " * Generator function which is called between each async step of the upload\n",
              " * process.\n",
              " * @param {string} inputId Element ID of the input file picker element.\n",
              " * @param {string} outputId Element ID of the output display.\n",
              " * @return {!Iterable<!Object>} Iterable of next steps.\n",
              " */\n",
              "function* uploadFilesStep(inputId, outputId) {\n",
              "  const inputElement = document.getElementById(inputId);\n",
              "  inputElement.disabled = false;\n",
              "\n",
              "  const outputElement = document.getElementById(outputId);\n",
              "  outputElement.innerHTML = '';\n",
              "\n",
              "  const pickedPromise = new Promise((resolve) => {\n",
              "    inputElement.addEventListener('change', (e) => {\n",
              "      resolve(e.target.files);\n",
              "    });\n",
              "  });\n",
              "\n",
              "  const cancel = document.createElement('button');\n",
              "  inputElement.parentElement.appendChild(cancel);\n",
              "  cancel.textContent = 'Cancel upload';\n",
              "  const cancelPromise = new Promise((resolve) => {\n",
              "    cancel.onclick = () => {\n",
              "      resolve(null);\n",
              "    };\n",
              "  });\n",
              "\n",
              "  // Wait for the user to pick the files.\n",
              "  const files = yield {\n",
              "    promise: Promise.race([pickedPromise, cancelPromise]),\n",
              "    response: {\n",
              "      action: 'starting',\n",
              "    }\n",
              "  };\n",
              "\n",
              "  cancel.remove();\n",
              "\n",
              "  // Disable the input element since further picks are not allowed.\n",
              "  inputElement.disabled = true;\n",
              "\n",
              "  if (!files) {\n",
              "    return {\n",
              "      response: {\n",
              "        action: 'complete',\n",
              "      }\n",
              "    };\n",
              "  }\n",
              "\n",
              "  for (const file of files) {\n",
              "    const li = document.createElement('li');\n",
              "    li.append(span(file.name, {fontWeight: 'bold'}));\n",
              "    li.append(span(\n",
              "        `(${file.type || 'n/a'}) - ${file.size} bytes, ` +\n",
              "        `last modified: ${\n",
              "            file.lastModifiedDate ? file.lastModifiedDate.toLocaleDateString() :\n",
              "                                    'n/a'} - `));\n",
              "    const percent = span('0% done');\n",
              "    li.appendChild(percent);\n",
              "\n",
              "    outputElement.appendChild(li);\n",
              "\n",
              "    const fileDataPromise = new Promise((resolve) => {\n",
              "      const reader = new FileReader();\n",
              "      reader.onload = (e) => {\n",
              "        resolve(e.target.result);\n",
              "      };\n",
              "      reader.readAsArrayBuffer(file);\n",
              "    });\n",
              "    // Wait for the data to be ready.\n",
              "    let fileData = yield {\n",
              "      promise: fileDataPromise,\n",
              "      response: {\n",
              "        action: 'continue',\n",
              "      }\n",
              "    };\n",
              "\n",
              "    // Use a chunked sending to avoid message size limits. See b/62115660.\n",
              "    let position = 0;\n",
              "    do {\n",
              "      const length = Math.min(fileData.byteLength - position, MAX_PAYLOAD_SIZE);\n",
              "      const chunk = new Uint8Array(fileData, position, length);\n",
              "      position += length;\n",
              "\n",
              "      const base64 = btoa(String.fromCharCode.apply(null, chunk));\n",
              "      yield {\n",
              "        response: {\n",
              "          action: 'append',\n",
              "          file: file.name,\n",
              "          data: base64,\n",
              "        },\n",
              "      };\n",
              "\n",
              "      let percentDone = fileData.byteLength === 0 ?\n",
              "          100 :\n",
              "          Math.round((position / fileData.byteLength) * 100);\n",
              "      percent.textContent = `${percentDone}% done`;\n",
              "\n",
              "    } while (position < fileData.byteLength);\n",
              "  }\n",
              "\n",
              "  // All done.\n",
              "  yield {\n",
              "    response: {\n",
              "      action: 'complete',\n",
              "    }\n",
              "  };\n",
              "}\n",
              "\n",
              "scope.google = scope.google || {};\n",
              "scope.google.colab = scope.google.colab || {};\n",
              "scope.google.colab._files = {\n",
              "  _uploadFiles,\n",
              "  _uploadFilesContinue,\n",
              "};\n",
              "})(self);\n",
              "</script> "
            ]
          },
          "metadata": {}
        },
        {
          "output_type": "stream",
          "name": "stdout",
          "text": [
            "Saving Keyword_data - Keyword_data.csv to Keyword_data - Keyword_data.csv\n"
          ]
        }
      ]
    },
    {
      "cell_type": "code",
      "source": [
        "import pandas as pd\n",
        "import numpy as np\n",
        "import networkx as nx\n",
        "\n",
        "df = pd.read_csv(\"Keyword_data - Keyword_data.csv\")\n",
        "\n",
        "t = df.set_index('Title').values.tolist()               # Converting the Dataframe to a List            \n",
        "df = df.drop(['Title'], axis=1)\n",
        "df_long = pd.melt(df, value_vars=list(df.columns), \n",
        "                  value_name='Keywords', ignore_index=False)"
      ],
      "metadata": {
        "id": "Zk37JEOPMHTd"
      },
      "execution_count": 50,
      "outputs": []
    },
    {
      "cell_type": "code",
      "source": [
        "df_long['Keywords'].nunique()   "
      ],
      "metadata": {
        "colab": {
          "base_uri": "https://localhost:8080/"
        },
        "id": "IIG_GnoiANBu",
        "outputId": "d17860e7-936d-490c-b634-44140af14b66"
      },
      "execution_count": 51,
      "outputs": [
        {
          "output_type": "execute_result",
          "data": {
            "text/plain": [
              "248"
            ]
          },
          "metadata": {},
          "execution_count": 51
        }
      ]
    },
    {
      "cell_type": "code",
      "source": [
        "df_long = df_long.dropna()\n",
        "del df_long['variable']\n",
        "\n",
        "size = df_long['Keywords'].nunique()          \n",
        "keywords = df_long['Keywords'].unique()"
      ],
      "metadata": {
        "id": "ZC5yfssaAP3x"
      },
      "execution_count": 52,
      "outputs": []
    },
    {
      "cell_type": "code",
      "source": [
        "matrix = np.zeros((size, size), dtype = int)"
      ],
      "metadata": {
        "id": "M__6kevdAYOq"
      },
      "execution_count": 53,
      "outputs": []
    },
    {
      "cell_type": "code",
      "source": [
        "for i in range(0, size):\n",
        "  for j in range(0, size):\n",
        "    if i != j:\n",
        "      if(matrix[i][j] == 0 & matrix[j][i] == 0):\n",
        "        for k,idx in enumerate(t):\n",
        "          if(keywords[i] in (t[k])) and (keywords[j] in (t[k])):\n",
        "            matrix[i][j] = matrix[i][j] + 1\n",
        "            matrix[j][i] = matrix[j][i] + 1\n",
        "\n",
        "print(matrix)\n",
        "matrix.shape"
      ],
      "metadata": {
        "colab": {
          "base_uri": "https://localhost:8080/"
        },
        "id": "0vc8Llg4AYue",
        "outputId": "390b9d97-41b3-4373-8ca2-787b73c87f03"
      },
      "execution_count": 54,
      "outputs": [
        {
          "output_type": "stream",
          "name": "stdout",
          "text": [
            "[[0 0 0 ... 0 0 0]\n",
            " [0 0 0 ... 0 0 0]\n",
            " [0 0 0 ... 0 0 0]\n",
            " ...\n",
            " [0 0 0 ... 0 0 0]\n",
            " [0 0 0 ... 0 0 0]\n",
            " [0 0 0 ... 0 0 0]]\n"
          ]
        },
        {
          "output_type": "execute_result",
          "data": {
            "text/plain": [
              "(248, 248)"
            ]
          },
          "metadata": {},
          "execution_count": 54
        }
      ]
    },
    {
      "cell_type": "code",
      "source": [
        "import networkx as nx\n",
        "graph = nx.from_numpy_matrix(matrix, parallel_edges = False)\n",
        "nx.draw(graph)\n",
        "\n",
        "print(\"Number of Nodes\", graph.number_of_nodes())\n",
        "print(\"Number of Edges\", graph.number_of_edges())\n",
        "print(\"Network\", graph)\n",
        "print(\"Degree\", graph.degree())\n",
        "print(\"Strength\", graph.degree(weight = 'weight'))"
      ],
      "metadata": {
        "colab": {
          "base_uri": "https://localhost:8080/",
          "height": 428
        },
        "id": "pduDagR9P8FV",
        "outputId": "a1ced753-a2aa-4258-d03f-6b2b55392d7d"
      },
      "execution_count": 56,
      "outputs": [
        {
          "output_type": "stream",
          "name": "stdout",
          "text": [
            "Number of Nodes 248\n",
            "Number of Edges 2141\n",
            "Network Graph with 248 nodes and 2141 edges\n",
            "Degree [(0, 10), (1, 18), (2, 24), (3, 31), (4, 19), (5, 9), (6, 10), (7, 49), (8, 90), (9, 62), (10, 14), (11, 16), (12, 20), (13, 42), (14, 14), (15, 16), (16, 102), (17, 18), (18, 32), (19, 11), (20, 93), (21, 24), (22, 9), (23, 166), (24, 26), (25, 31), (26, 55), (27, 9), (28, 31), (29, 9), (30, 17), (31, 9), (32, 35), (33, 48), (34, 15), (35, 26), (36, 11), (37, 19), (38, 11), (39, 11), (40, 66), (41, 29), (42, 16), (43, 17), (44, 11), (45, 32), (46, 10), (47, 64), (48, 16), (49, 10), (50, 25), (51, 23), (52, 9), (53, 17), (54, 11), (55, 18), (56, 20), (57, 9), (58, 9), (59, 9), (60, 9), (61, 9), (62, 46), (63, 9), (64, 9), (65, 7), (66, 9), (67, 28), (68, 11), (69, 37), (70, 11), (71, 9), (72, 9), (73, 11), (74, 9), (75, 10), (76, 9), (77, 10), (78, 10), (79, 17), (80, 9), (81, 29), (82, 10), (83, 37), (84, 10), (85, 9), (86, 16), (87, 9), (88, 66), (89, 10), (90, 9), (91, 9), (92, 9), (93, 9), (94, 17), (95, 9), (96, 32), (97, 23), (98, 11), (99, 27), (100, 11), (101, 10), (102, 9), (103, 17), (104, 11), (105, 9), (106, 10), (107, 38), (108, 11), (109, 9), (110, 8), (111, 9), (112, 104), (113, 11), (114, 18), (115, 11), (116, 17), (117, 18), (118, 9), (119, 10), (120, 9), (121, 9), (122, 9), (123, 18), (124, 17), (125, 17), (126, 9), (127, 27), (128, 11), (129, 11), (130, 10), (131, 9), (132, 9), (133, 11), (134, 9), (135, 4), (136, 21), (137, 8), (138, 26), (139, 21), (140, 10), (141, 25), (142, 17), (143, 9), (144, 9), (145, 41), (146, 9), (147, 18), (148, 9), (149, 9), (150, 17), (151, 9), (152, 9), (153, 11), (154, 11), (155, 24), (156, 74), (157, 11), (158, 9), (159, 8), (160, 9), (161, 9), (162, 18), (163, 9), (164, 9), (165, 9), (166, 18), (167, 10), (168, 19), (169, 19), (170, 18), (171, 9), (172, 10), (173, 11), (174, 9), (175, 9), (176, 9), (177, 9), (178, 9), (179, 9), (180, 9), (181, 9), (182, 9), (183, 9), (184, 26), (185, 11), (186, 11), (187, 11), (188, 19), (189, 10), (190, 11), (191, 7), (192, 9), (193, 8), (194, 11), (195, 17), (196, 10), (197, 17), (198, 9), (199, 9), (200, 9), (201, 9), (202, 9), (203, 7), (204, 9), (205, 11), (206, 21), (207, 27), (208, 9), (209, 11), (210, 8), (211, 11), (212, 20), (213, 10), (214, 10), (215, 9), (216, 9), (217, 9), (218, 9), (219, 9), (220, 11), (221, 11), (222, 20), (223, 9), (224, 9), (225, 20), (226, 10), (227, 9), (228, 9), (229, 9), (230, 9), (231, 9), (232, 11), (233, 11), (234, 11), (235, 19), (236, 10), (237, 11), (238, 11), (239, 10), (240, 11), (241, 11), (242, 11), (243, 11), (244, 11), (245, 11), (246, 11), (247, 11)]\n",
            "Strength [(0, 10), (1, 20), (2, 27), (3, 36), (4, 20), (5, 9), (6, 10), (7, 59), (8, 112), (9, 85), (10, 14), (11, 19), (12, 20), (13, 47), (14, 15), (15, 18), (16, 136), (17, 20), (18, 37), (19, 11), (20, 126), (21, 28), (22, 9), (23, 265), (24, 32), (25, 37), (26, 78), (27, 9), (28, 38), (29, 9), (30, 18), (31, 9), (32, 44), (33, 60), (34, 16), (35, 27), (36, 11), (37, 20), (38, 11), (39, 11), (40, 96), (41, 31), (42, 17), (43, 18), (44, 11), (45, 36), (46, 10), (47, 84), (48, 19), (49, 10), (50, 25), (51, 29), (52, 9), (53, 19), (54, 11), (55, 20), (56, 20), (57, 9), (58, 9), (59, 9), (60, 9), (61, 9), (62, 57), (63, 9), (64, 9), (65, 7), (66, 9), (67, 30), (68, 11), (69, 42), (70, 11), (71, 9), (72, 9), (73, 11), (74, 9), (75, 10), (76, 9), (77, 10), (78, 10), (79, 17), (80, 9), (81, 31), (82, 10), (83, 49), (84, 10), (85, 9), (86, 18), (87, 9), (88, 80), (89, 10), (90, 9), (91, 9), (92, 9), (93, 9), (94, 17), (95, 9), (96, 35), (97, 26), (98, 11), (99, 29), (100, 11), (101, 10), (102, 9), (103, 18), (104, 11), (105, 9), (106, 10), (107, 48), (108, 11), (109, 9), (110, 8), (111, 9), (112, 144), (113, 11), (114, 19), (115, 11), (116, 19), (117, 19), (118, 9), (119, 10), (120, 9), (121, 9), (122, 9), (123, 20), (124, 18), (125, 18), (126, 9), (127, 31), (128, 11), (129, 11), (130, 10), (131, 9), (132, 9), (133, 11), (134, 9), (135, 4), (136, 21), (137, 8), (138, 31), (139, 22), (140, 10), (141, 29), (142, 18), (143, 9), (144, 9), (145, 53), (146, 9), (147, 19), (148, 9), (149, 9), (150, 18), (151, 9), (152, 9), (153, 11), (154, 11), (155, 28), (156, 107), (157, 11), (158, 9), (159, 8), (160, 9), (161, 9), (162, 18), (163, 9), (164, 9), (165, 9), (166, 18), (167, 10), (168, 21), (169, 20), (170, 19), (171, 9), (172, 10), (173, 11), (174, 9), (175, 9), (176, 9), (177, 9), (178, 9), (179, 9), (180, 9), (181, 9), (182, 9), (183, 9), (184, 31), (185, 11), (186, 11), (187, 11), (188, 20), (189, 10), (190, 11), (191, 7), (192, 9), (193, 8), (194, 11), (195, 19), (196, 10), (197, 19), (198, 9), (199, 9), (200, 9), (201, 9), (202, 9), (203, 7), (204, 9), (205, 11), (206, 22), (207, 30), (208, 9), (209, 11), (210, 8), (211, 11), (212, 21), (213, 10), (214, 10), (215, 9), (216, 9), (217, 9), (218, 9), (219, 9), (220, 11), (221, 11), (222, 20), (223, 9), (224, 9), (225, 21), (226, 10), (227, 9), (228, 9), (229, 9), (230, 9), (231, 9), (232, 11), (233, 11), (234, 11), (235, 22), (236, 10), (237, 11), (238, 11), (239, 10), (240, 11), (241, 11), (242, 11), (243, 11), (244, 11), (245, 11), (246, 11), (247, 11)]\n"
          ]
        },
        {
          "output_type": "display_data",
          "data": {
            "text/plain": [
              "<Figure size 432x288 with 1 Axes>"
            ],
            "image/png": "[encoded data removed]"
          },
          "metadata": {}
        }
      ]
    },
    {
      "cell_type": "code",
      "source": [
        "node = graph.degree()\n",
        "top_node = sorted(node, key=lambda x: x[1], reverse=True)\n",
        "print(\"Top 10 nodes by degree: \")\n",
        "print(top_node[:10])"
      ],
      "metadata": {
        "colab": {
          "base_uri": "https://localhost:8080/"
        },
        "id": "V0uAjiHoP8Hz",
        "outputId": "3a1b1ef5-20a7-4b7d-b901-cd098fe637d4"
      },
      "execution_count": 57,
      "outputs": [
        {
          "output_type": "stream",
          "name": "stdout",
          "text": [
            "Top 10 nodes by degree: \n",
            "[(23, 166), (112, 104), (16, 102), (20, 93), (8, 90), (156, 74), (40, 66), (88, 66), (47, 64), (9, 62)]\n"
          ]
        }
      ]
    },
    {
      "cell_type": "code",
      "source": [
        "# top 10 nodes by strength\n",
        "weg = graph.degree(weight = 'weight')\n",
        "top_node_weg = sorted(weg, key=lambda x: x[1], reverse=True)\n",
        "print(\"Top 10 nodes pairs by strength: \")\n",
        "print(top_node_weg[:10])"
      ],
      "metadata": {
        "colab": {
          "base_uri": "https://localhost:8080/"
        },
        "id": "NoaOwrrz-yob",
        "outputId": "3f18fe00-11d0-447d-bd1e-c2b56fcae284"
      },
      "execution_count": 58,
      "outputs": [
        {
          "output_type": "stream",
          "name": "stdout",
          "text": [
            "Top 10 nodes pairs by strength: \n",
            "[(23, 265), (112, 144), (16, 136), (20, 126), (8, 112), (156, 107), (40, 96), (9, 85), (47, 84), (88, 80)]\n"
          ]
        }
      ]
    },
    {
      "cell_type": "code",
      "source": [
        "a = []\n",
        "for i in range(0, size):\n",
        "  for j in range(0, size):\n",
        "    a.append([keywords[i], keywords[j], matrix[i][j]])\n",
        "\n",
        "df7 = pd.DataFrame(a, columns = ['x','y','z'], dtype = float);"
      ],
      "metadata": {
        "colab": {
          "base_uri": "https://localhost:8080/"
        },
        "id": "3ToMpn9RkbbP",
        "outputId": "5c817565-543c-4a69-fb21-e3b3f7632620"
      },
      "execution_count": 59,
      "outputs": [
        {
          "output_type": "stream",
          "name": "stderr",
          "text": [
            "/usr/local/lib/python3.8/dist-packages/IPython/core/interactiveshell.py:3326: FutureWarning: Could not cast to float64, falling back to object. This behavior is deprecated. In a future version, when a dtype is passed to 'DataFrame', either all columns will be cast to that dtype, or a TypeError will be raised\n",
            "  exec(code_obj, self.user_global_ns, self.user_ns)\n"
          ]
        }
      ]
    },
    {
      "cell_type": "code",
      "source": [
        "# Show the top 10 node pairs by weight\n",
        "print(df7.sort_values(by = ['z'], ascending = False).head(10))"
      ],
      "metadata": {
        "colab": {
          "base_uri": "https://localhost:8080/"
        },
        "id": "2i6VqD4Kkbd2",
        "outputId": "83ce5382-be84-4f7f-f3bf-e0f699b9ca9f"
      },
      "execution_count": 60,
      "outputs": [
        {
          "output_type": "stream",
          "name": "stdout",
          "text": [
            "                                  x                             y     z\n",
            "5816        ORGANIZATIONAL behavior  ORGANIZATIONAL effectiveness  11.0\n",
            "27799  ORGANIZATIONAL effectiveness       ORGANIZATIONAL behavior  11.0\n",
            "5860        ORGANIZATIONAL behavior      ORGANIZATIONAL structure   9.0\n",
            "38711      ORGANIZATIONAL structure       ORGANIZATIONAL behavior   9.0\n",
            "5724        ORGANIZATIONAL behavior          PERSONNEL management   8.0\n",
            "4983           PERSONNEL management       ORGANIZATIONAL behavior   8.0\n",
            "3991             MANAGEMENT science       ORGANIZATIONAL behavior   7.0\n",
            "5720        ORGANIZATIONAL behavior            MANAGEMENT science   7.0\n",
            "2007                DECISION making       ORGANIZATIONAL behavior   6.0\n",
            "5744        ORGANIZATIONAL behavior      ORGANIZATIONAL sociology   6.0\n"
          ]
        }
      ]
    },
    {
      "cell_type": "code",
      "source": [
        "degree = dict(graph.degree()).values()\n",
        "degree_new = pd.DataFrame.from_dict(degree)"
      ],
      "metadata": {
        "id": "2-8lesVQOiwZ"
      },
      "execution_count": 68,
      "outputs": []
    },
    {
      "cell_type": "code",
      "source": [
        "average_strength = dict(graph.degree(weight = 'weight')).values()\n",
        "average_strength_new = pd.DataFrame.from_dict(average_strength)"
      ],
      "metadata": {
        "id": "GdRqta9ZOiy-"
      },
      "execution_count": 69,
      "outputs": []
    },
    {
      "cell_type": "code",
      "source": [
        "output = pd.DataFrame()\n",
        "output['Strength']= average_strength_new[0]\n",
        "output['Degree'] = degree_new[0]\n",
        "output"
      ],
      "metadata": {
        "colab": {
          "base_uri": "https://localhost:8080/",
          "height": 424
        },
        "id": "AdOA-h1a-EOt",
        "outputId": "3c53b3ff-c003-4adb-826b-b18cd6989a46"
      },
      "execution_count": 72,
      "outputs": [
        {
          "output_type": "execute_result",
          "data": {
            "text/plain": [
              "     Strength  Degree\n",
              "0          10      10\n",
              "1          20      18\n",
              "2          27      24\n",
              "3          36      31\n",
              "4          20      19\n",
              "..        ...     ...\n",
              "243        11      11\n",
              "244        11      11\n",
              "245        11      11\n",
              "246        11      11\n",
              "247        11      11\n",
              "\n",
              "[248 rows x 2 columns]"
            ],
            "text/html": [
              "\n",
              "  <div id=\"df-8646d59c-cff9-4362-bc97-14f089b436e0\">\n",
              "    <div class=\"colab-df-container\">\n",
              "      <div>\n",
              "<style scoped>\n",
              "    .dataframe tbody tr th:only-of-type {\n",
              "        vertical-align: middle;\n",
              "    }\n",
              "\n",
              "    .dataframe tbody tr th {\n",
              "        vertical-align: top;\n",
              "    }\n",
              "\n",
              "    .dataframe thead th {\n",
              "        text-align: right;\n",
              "    }\n",
              "</style>\n",
              "<table border=\"1\" class=\"dataframe\">\n",
              "  <thead>\n",
              "    <tr style=\"text-align: right;\">\n",
              "      <th></th>\n",
              "      <th>Strength</th>\n",
              "      <th>Degree</th>\n",
              "    </tr>\n",
              "  </thead>\n",
              "  <tbody>\n",
              "    <tr>\n",
              "      <th>0</th>\n",
              "      <td>10</td>\n",
              "      <td>10</td>\n",
              "    </tr>\n",
              "    <tr>\n",
              "      <th>1</th>\n",
              "      <td>20</td>\n",
              "      <td>18</td>\n",
              "    </tr>\n",
              "    <tr>\n",
              "      <th>2</th>\n",
              "      <td>27</td>\n",
              "      <td>24</td>\n",
              "    </tr>\n",
              "    <tr>\n",
              "      <th>3</th>\n",
              "      <td>36</td>\n",
              "      <td>31</td>\n",
              "    </tr>\n",
              "    <tr>\n",
              "      <th>4</th>\n",
              "      <td>20</td>\n",
              "      <td>19</td>\n",
              "    </tr>\n",
              "    <tr>\n",
              "      <th>...</th>\n",
              "      <td>...</td>\n",
              "      <td>...</td>\n",
              "    </tr>\n",
              "    <tr>\n",
              "      <th>243</th>\n",
              "      <td>11</td>\n",
              "      <td>11</td>\n",
              "    </tr>\n",
              "    <tr>\n",
              "      <th>244</th>\n",
              "      <td>11</td>\n",
              "      <td>11</td>\n",
              "    </tr>\n",
              "    <tr>\n",
              "      <th>245</th>\n",
              "      <td>11</td>\n",
              "      <td>11</td>\n",
              "    </tr>\n",
              "    <tr>\n",
              "      <th>246</th>\n",
              "      <td>11</td>\n",
              "      <td>11</td>\n",
              "    </tr>\n",
              "    <tr>\n",
              "      <th>247</th>\n",
              "      <td>11</td>\n",
              "      <td>11</td>\n",
              "    </tr>\n",
              "  </tbody>\n",
              "</table>\n",
              "<p>248 rows × 2 columns</p>\n",
              "</div>\n",
              "      <button class=\"colab-df-convert\" onclick=\"convertToInteractive('df-8646d59c-cff9-4362-bc97-14f089b436e0')\"\n",
              "              title=\"Convert this dataframe to an interactive table.\"\n",
              "              style=\"display:none;\">\n",
              "        \n",
              "  <svg xmlns=\"http://www.w3.org/2000/svg\" height=\"24px\"viewBox=\"0 0 24 24\"\n",
              "       width=\"24px\">\n",
              "    <path d=\"M0 0h24v24H0V0z\" fill=\"none\"/>\n",
              "    <path d=\"M18.56 5.44l.94 2.06.94-2.06 2.06-.94-2.06-.94-.94-2.06-.94 2.06-2.06.94zm-11 1L8.5 8.5l.94-2.06 2.06-.94-2.06-.94L8.5 2.5l-.94 2.06-2.06.94zm10 10l.94 2.06.94-2.06 2.06-.94-2.06-.94-.94-2.06-.94 2.06-2.06.94z\"/><path d=\"M17.41 7.96l-1.37-1.37c-.4-.4-.92-.59-1.43-.59-.52 0-1.04.2-1.43.59L10.3 9.45l-7.72 7.72c-.78.78-.78 2.05 0 2.83L4 21.41c.39.39.9.59 1.41.59.51 0 1.02-.2 1.41-.59l7.78-7.78 2.81-2.81c.8-.78.8-2.07 0-2.86zM5.41 20L4 18.59l7.72-7.72 1.47 1.35L5.41 20z\"/>\n",
              "  </svg>\n",
              "      </button>\n",
              "      \n",
              "  <style>\n",
              "    .colab-df-container {\n",
              "      display:flex;\n",
              "      flex-wrap:wrap;\n",
              "      gap: 12px;\n",
              "    }\n",
              "\n",
              "    .colab-df-convert {\n",
              "      background-color: #E8F0FE;\n",
              "      border: none;\n",
              "      border-radius: 50%;\n",
              "      cursor: pointer;\n",
              "      display: none;\n",
              "      fill: #1967D2;\n",
              "      height: 32px;\n",
              "      padding: 0 0 0 0;\n",
              "      width: 32px;\n",
              "    }\n",
              "\n",
              "    .colab-df-convert:hover {\n",
              "      background-color: #E2EBFA;\n",
              "      box-shadow: 0px 1px 2px rgba(60, 64, 67, 0.3), 0px 1px 3px 1px rgba(60, 64, 67, 0.15);\n",
              "      fill: #174EA6;\n",
              "    }\n",
              "\n",
              "    [theme=dark] .colab-df-convert {\n",
              "      background-color: #3B4455;\n",
              "      fill: #D2E3FC;\n",
              "    }\n",
              "\n",
              "    [theme=dark] .colab-df-convert:hover {\n",
              "      background-color: #434B5C;\n",
              "      box-shadow: 0px 1px 3px 1px rgba(0, 0, 0, 0.15);\n",
              "      filter: drop-shadow(0px 1px 2px rgba(0, 0, 0, 0.3));\n",
              "      fill: #FFFFFF;\n",
              "    }\n",
              "  </style>\n",
              "\n",
              "      <script>\n",
              "        const buttonEl =\n",
              "          document.querySelector('#df-8646d59c-cff9-4362-bc97-14f089b436e0 button.colab-df-convert');\n",
              "        buttonEl.style.display =\n",
              "          google.colab.kernel.accessAllowed ? 'block' : 'none';\n",
              "\n",
              "        async function convertToInteractive(key) {\n",
              "          const element = document.querySelector('#df-8646d59c-cff9-4362-bc97-14f089b436e0');\n",
              "          const dataTable =\n",
              "            await google.colab.kernel.invokeFunction('convertToInteractive',\n",
              "                                                     [key], {});\n",
              "          if (!dataTable) return;\n",
              "\n",
              "          const docLinkHtml = 'Like what you see? Visit the ' +\n",
              "            '<a target=\"_blank\" href=https://colab.research.google.com/notebooks/data_table.ipynb>data table notebook</a>'\n",
              "            + ' to learn more about interactive tables.';\n",
              "          element.innerHTML = '';\n",
              "          dataTable['output_type'] = 'display_data';\n",
              "          await google.colab.output.renderOutput(dataTable, element);\n",
              "          const docLink = document.createElement('div');\n",
              "          docLink.innerHTML = docLinkHtml;\n",
              "          element.appendChild(docLink);\n",
              "        }\n",
              "      </script>\n",
              "    </div>\n",
              "  </div>\n",
              "  "
            ]
          },
          "metadata": {},
          "execution_count": 72
        }
      ]
    },
    {
      "cell_type": "code",
      "source": [
        "import seaborn as sns\n",
        "sns.lineplot(data=output, x=\"Degree\", y=\"Strength\").set(title='Average strength on y-axis and Degree on x-axis');"
      ],
      "metadata": {
        "colab": {
          "base_uri": "https://localhost:8080/",
          "height": 295
        },
        "id": "L52fCqlXOi1k",
        "outputId": "cee7e484-995a-4433-9fed-66a4d7f62206"
      },
      "execution_count": 73,
      "outputs": [
        {
          "output_type": "display_data",
          "data": {
            "text/plain": [
              "<Figure size 432x288 with 1 Axes>"
            ],
            "image/png": "[encoded data removed]"
          },
          "metadata": {
            "needs_background": "light"
          }
        }
      ]
    }
  ]
}
